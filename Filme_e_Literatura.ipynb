{
  "nbformat": 4,
  "nbformat_minor": 0,
  "metadata": {
    "colab": {
      "name": "Filme e Literatura",
      "provenance": [],
      "collapsed_sections": [],
      "include_colab_link": true
    },
    "kernelspec": {
      "name": "python3",
      "display_name": "Python 3"
    },
    "language_info": {
      "name": "python"
    }
  },
  "cells": [
    {
      "cell_type": "markdown",
      "metadata": {
        "id": "view-in-github",
        "colab_type": "text"
      },
      "source": [
        "<a href=\"https://colab.research.google.com/github/fernandarrios/desafio.cinemaeliteratura/blob/main/Filme_e_Literatura.ipynb\" target=\"_parent\"><img src=\"https://colab.research.google.com/assets/colab-badge.svg\" alt=\"Open In Colab\"/></a>"
      ]
    },
    {
      "cell_type": "markdown",
      "metadata": {
        "id": "2yMZrc_zHCEZ"
      },
      "source": [
        "##Uma breve história do cinema\n",
        "\n",
        "O início da história do cinema é incerto, mas a primeira exibição paga registrada de um filme foi em 28 de dezembro de 1895, no parisiense Salão Grand Café. O curta exibido era *L'Arrivée d'un Train à La Ciotat* dos irmãos Lumière. No dia, pouco mais de 30 pessoas foram.\n",
        "\n",
        "\n",
        "Completamente revolucionário na época, *L'Arrivée d'un Train à La Ciotat* provocou efeitos de êxtase e medo na platéia, pois elas acharam que o trem ia sair da tela, fazendo com que diversas pessoas ficassem com medo e fazendo outras irem embora.\n",
        "\n",
        "O sucesso foi tanto que cada dia mais apareciam pessoas para verem o filme, tornando-os pioneiros. Porém, eles não reivindicaram para si a invenção de tal feito.\n",
        "\n",
        "<img src=\"https://segredosdomundo.r7.com/wp-content/uploads/2021/04/irmaos-lumiere-quem-foram-historia-dos-pais-do-cinema.jpg\" width=\"600\">Imãos Lumière\n",
        "\n",
        "Como ainda não conseguiam casar a imagem com um som sincronizado, os 30 primeiros anos da história do cinema foram marcados com filmes que eram praticamente silenciosos, acompanhados muitas vezes de música ao vivo, efeitos especiais, sendo *George Méilès* o pioneiro de alguns deles, além de narração e diálogos escritos presentes entre as cenas.\n",
        "\n",
        "<img src=\"https://super.abril.com.br/wp-content/uploads/2005/06/o-macc81gico-dos-filmes.png\" width=\"600\">Viagem à lua de George Meilès\n",
        "\n",
        "\n",
        "<img src=\"https://i.pinimg.com/originals/4e/40/09/4e400994aabaafa61d6e0c09193c8062.jpg\" width=\"600\">Exemplo de diálogo de filme mudo\n",
        "\n",
        "Desde esse fátidico dia, milhões de pessoas riem, choram, se emocionam com os filmes lançados todos os dias, filmes baseados nos super-heróis, como o universo DC, passando pelos documentários, como Trabalho Interno do *Charles Ferguson* sobre o *crash* da bolsa de imóveis de 2008 nos EUA, dramas como <i>Her</i> e a lista vai assim se tornando longa, com gêneros que agradam diversos gostos, desde à pessoa mais exigente até a menos.\n",
        "\n",
        "Com essa infinidade de possibilidades, me perguntei quais filmes já vi durante meus 23 anos, e algumas características da ficha técnica deles.\n",
        "\n",
        "Essa pergunta irei responder nesse momento.\n"
      ]
    },
    {
      "cell_type": "markdown",
      "metadata": {
        "id": "1zyp6k6wl9G8"
      },
      "source": [
        "###Importando os dados necessários para realizar a análise de dados."
      ]
    },
    {
      "cell_type": "code",
      "metadata": {
        "id": "LONgLfIemX1Q"
      },
      "source": [
        "import pandas as pd\n",
        "import numpy as np\n",
        "import seaborn as sns\n",
        "import matplotlib.pyplot as plt\n",
        "%matplotlib inline"
      ],
      "execution_count": null,
      "outputs": []
    },
    {
      "cell_type": "markdown",
      "metadata": {
        "id": "J6-hT6G2pjbI"
      },
      "source": [
        "Desde 2013, quando eu conheci o site de marcação de filmes [Filmow](https://filmow.com/), venho catalogando os filmes que eu vi antes de 2013 e a partir desse ano. Por conta disso, decidi usar o meu dataset para responder algumas dúvidas que tenho, como: Qual a nota que eu mais dou? Quantos diretores e diretoras eu já vi?"
      ]
    },
    {
      "cell_type": "code",
      "metadata": {
        "id": "EMIFFWaw_nzp"
      },
      "source": [
        "df_movie = pd.read_csv('https://raw.githubusercontent.com/fernandarrios/desafio.cinemaeliteratura/main/dataset_desafioshepy/Filmes%20e%20Livros%20-%20Filmes.csv')"
      ],
      "execution_count": null,
      "outputs": []
    },
    {
      "cell_type": "markdown",
      "metadata": {
        "id": "_kTkN4aBpTJo"
      },
      "source": [
        "###Análise exploratória do *dataframe*"
      ]
    },
    {
      "cell_type": "code",
      "metadata": {
        "colab": {
          "base_uri": "https://localhost:8080/",
          "height": 206
        },
        "id": "eY6tX2CWpePs",
        "outputId": "174e37f0-9aca-4802-bcb7-813b50a1d988"
      },
      "source": [
        "df_movie.head()"
      ],
      "execution_count": null,
      "outputs": [
        {
          "output_type": "execute_result",
          "data": {
            "text/html": [
              "<div>\n",
              "<style scoped>\n",
              "    .dataframe tbody tr th:only-of-type {\n",
              "        vertical-align: middle;\n",
              "    }\n",
              "\n",
              "    .dataframe tbody tr th {\n",
              "        vertical-align: top;\n",
              "    }\n",
              "\n",
              "    .dataframe thead th {\n",
              "        text-align: right;\n",
              "    }\n",
              "</style>\n",
              "<table border=\"1\" class=\"dataframe\">\n",
              "  <thead>\n",
              "    <tr style=\"text-align: right;\">\n",
              "      <th></th>\n",
              "      <th>Ano</th>\n",
              "      <th>Título</th>\n",
              "      <th>Título original</th>\n",
              "      <th>Diretor(a)</th>\n",
              "      <th>Gênero</th>\n",
              "      <th>País</th>\n",
              "      <th>Visto em</th>\n",
              "      <th>Nota</th>\n",
              "    </tr>\n",
              "  </thead>\n",
              "  <tbody>\n",
              "    <tr>\n",
              "      <th>0</th>\n",
              "      <td>2013</td>\n",
              "      <td>Como não perder essa mulher</td>\n",
              "      <td>Don Jon</td>\n",
              "      <td>Joseph Gordon-Levitt</td>\n",
              "      <td>Homem</td>\n",
              "      <td>EUA</td>\n",
              "      <td>-</td>\n",
              "      <td>2.5</td>\n",
              "    </tr>\n",
              "    <tr>\n",
              "      <th>1</th>\n",
              "      <td>2002</td>\n",
              "      <td>Planeta do Tesouro</td>\n",
              "      <td>Treasure Planet</td>\n",
              "      <td>John Musker; Ron Clements</td>\n",
              "      <td>Homem</td>\n",
              "      <td>EUA</td>\n",
              "      <td>-</td>\n",
              "      <td>4</td>\n",
              "    </tr>\n",
              "    <tr>\n",
              "      <th>2</th>\n",
              "      <td>2003</td>\n",
              "      <td>Doze é demais</td>\n",
              "      <td>Cheaper by the dozen</td>\n",
              "      <td>Adam Shankman</td>\n",
              "      <td>Homem</td>\n",
              "      <td>EUA</td>\n",
              "      <td>-</td>\n",
              "      <td>2.5</td>\n",
              "    </tr>\n",
              "    <tr>\n",
              "      <th>3</th>\n",
              "      <td>2005</td>\n",
              "      <td>Doze é demais 2</td>\n",
              "      <td>Cheaper by the dozen 2</td>\n",
              "      <td>Adam Shankman</td>\n",
              "      <td>Homem</td>\n",
              "      <td>EUA</td>\n",
              "      <td>-</td>\n",
              "      <td>3</td>\n",
              "    </tr>\n",
              "    <tr>\n",
              "      <th>4</th>\n",
              "      <td>2002</td>\n",
              "      <td>Um amor para recordar</td>\n",
              "      <td>A walk to remember</td>\n",
              "      <td>Adam Shankman</td>\n",
              "      <td>Homem</td>\n",
              "      <td>EUA</td>\n",
              "      <td>-</td>\n",
              "      <td>2</td>\n",
              "    </tr>\n",
              "  </tbody>\n",
              "</table>\n",
              "</div>"
            ],
            "text/plain": [
              "    Ano                      Título          Título original  ... País Visto em Nota\n",
              "0  2013  Como não perder essa mulher                 Don Jon  ...  EUA        -  2.5\n",
              "1  2002           Planeta do Tesouro         Treasure Planet  ...  EUA        -    4\n",
              "2  2003               Doze é demais    Cheaper by the dozen   ...  EUA        -  2.5\n",
              "3  2005              Doze é demais 2  Cheaper by the dozen 2  ...  EUA        -    3\n",
              "4  2002        Um amor para recordar      A walk to remember  ...  EUA        -    2\n",
              "\n",
              "[5 rows x 8 columns]"
            ]
          },
          "metadata": {
            "tags": []
          },
          "execution_count": 3
        }
      ]
    },
    {
      "cell_type": "markdown",
      "metadata": {
        "id": "re_d6bQWsg_C"
      },
      "source": [
        "Como podemos perceber, o *dataframe* contém os seguintes dados: ano de lançamento, título, título original, diretor(a), gênero do(a) diretor(a), país, ano em que foi visto e a nota que eu dei de 0 a 5.\n",
        "\n",
        "Qual será o tipo de cada dado?"
      ]
    },
    {
      "cell_type": "code",
      "metadata": {
        "id": "hOY1TFKSpeTD",
        "colab": {
          "base_uri": "https://localhost:8080/"
        },
        "outputId": "a0081559-69cd-43ea-8f3f-58f5f7288f74"
      },
      "source": [
        "df_movie.info()"
      ],
      "execution_count": null,
      "outputs": [
        {
          "output_type": "stream",
          "text": [
            "<class 'pandas.core.frame.DataFrame'>\n",
            "RangeIndex: 1546 entries, 0 to 1545\n",
            "Data columns (total 8 columns):\n",
            " #   Column           Non-Null Count  Dtype \n",
            "---  ------           --------------  ----- \n",
            " 0   Ano              1546 non-null   object\n",
            " 1   Título           1546 non-null   object\n",
            " 2   Título original  1546 non-null   object\n",
            " 3   Diretor(a)       1546 non-null   object\n",
            " 4   Gênero           1546 non-null   object\n",
            " 5   País             1546 non-null   object\n",
            " 6   Visto em         1546 non-null   object\n",
            " 7   Nota             1541 non-null   object\n",
            "dtypes: object(8)\n",
            "memory usage: 96.8+ KB\n"
          ],
          "name": "stdout"
        }
      ]
    },
    {
      "cell_type": "markdown",
      "metadata": {
        "id": "0J2m_RwH7ult"
      },
      "source": [
        "###Pré-processamento\n",
        "\n",
        "Agora vamos limpar dos dados, eliminando os que não precisamos e qualquer inconsistência que aparecer."
      ]
    },
    {
      "cell_type": "code",
      "metadata": {
        "id": "xPIk-l1ZpeXu"
      },
      "source": [
        "# Dropando as colunas que não irei utilizar\n",
        "df_movie = df_movie.drop(['Título original', 'Visto em'], axis=1)"
      ],
      "execution_count": null,
      "outputs": []
    },
    {
      "cell_type": "markdown",
      "metadata": {
        "id": "CAihG56-_LHV"
      },
      "source": [
        "Eliminei a coluna 'Título Original' pois apresenta títulos com o alfabeto não latino, como o alfabeto japonês e alfabeto russo. E o 'Visto em' por razão da presença de nulos e que não irei utilizar os dados nele contido."
      ]
    },
    {
      "cell_type": "code",
      "metadata": {
        "id": "-cDRn2UsGneg"
      },
      "source": [
        "# Consertando as inconsistência\n",
        "df_movie.loc[df_movie['Gênero']== '-']\n",
        "df_movie.drop(940, inplace=True)\n",
        "\n",
        "df_movie['Gênero'].replace('Homem ','Homem', inplace=True)\n",
        "df_movie['Gênero'].replace('Mulher ','Mulher', inplace=True)"
      ],
      "execution_count": null,
      "outputs": []
    },
    {
      "cell_type": "code",
      "metadata": {
        "id": "npYis9hdGD0z"
      },
      "source": [
        "df_movie.loc[df_movie['Ano']== '-']\n",
        "df_movie.drop(843, inplace=True)"
      ],
      "execution_count": null,
      "outputs": []
    },
    {
      "cell_type": "code",
      "metadata": {
        "id": "B7qAyk4IcGzC"
      },
      "source": [
        "#Agora irei passar \"Homem\", \"Mulher\" e \"Ambos\" para inglês\n",
        "df_movie['Gênero'].replace('Homem','Man', inplace=True)\n",
        "df_movie['Gênero'].replace('Mulher','Woman', inplace=True)\n",
        "df_movie['Gênero'].replace('Ambos','Both', inplace=True)"
      ],
      "execution_count": null,
      "outputs": []
    },
    {
      "cell_type": "code",
      "metadata": {
        "id": "XgF-SJqaGnnv"
      },
      "source": [
        "#Padronizando a pontuação das notas para que sejam reconhecidas como dado numérico do tipo float\n",
        "df_movie['Nota'] = df_movie['Nota'].apply(lambda x: str(x).replace(',','.'))\n",
        "df_movie['Nota'] = df_movie['Nota'].astype('float64')\n",
        "\n",
        "df_movie['Ano'] = df_movie['Ano'].astype('float64')"
      ],
      "execution_count": null,
      "outputs": []
    },
    {
      "cell_type": "code",
      "metadata": {
        "id": "7D_l9wFLGnr4"
      },
      "source": [
        "#Depois que reconhecer como tipo float, substituí pela sua média\n",
        "df_movie.loc[df_movie['Nota'] > 100, 'Nota'] = df_movie['Nota'].mean()"
      ],
      "execution_count": null,
      "outputs": []
    },
    {
      "cell_type": "code",
      "metadata": {
        "id": "agwLK_XdpebL"
      },
      "source": [
        "df_movie.rename(columns={\n",
        "    'Ano':'Year',\n",
        "    'Título ':'Title',\n",
        "    'Diretor(a)':'Director',\n",
        "    'Gênero':'Gender',\n",
        "    'País':'Country',\n",
        "    'Nota':'Rate'\n",
        "}, inplace=True)"
      ],
      "execution_count": null,
      "outputs": []
    },
    {
      "cell_type": "markdown",
      "metadata": {
        "id": "Vu3uA2ToCDw1"
      },
      "source": [
        "Mudando os nomes das colunas para que fiquem na língua mais utilizada e eliminando os caracteres especiais como o acento agudo."
      ]
    },
    {
      "cell_type": "markdown",
      "metadata": {
        "id": "hSDNBYw8CZPv"
      },
      "source": [
        "###Análise dos dados"
      ]
    },
    {
      "cell_type": "markdown",
      "metadata": {
        "id": "dz6_PiyXcSTf"
      },
      "source": [
        "####Sou Exigente?"
      ]
    },
    {
      "cell_type": "markdown",
      "metadata": {
        "id": "4aM7x8pQChl3"
      },
      "source": [
        "Não me considero exigente em relação a filmes, mas será que estou certa? Vamos descobrir neste momento."
      ]
    },
    {
      "cell_type": "code",
      "metadata": {
        "id": "8Kx3UkNapehF",
        "colab": {
          "base_uri": "https://localhost:8080/",
          "height": 374
        },
        "outputId": "26c179dd-6714-41ae-c02a-686df1ea67c3"
      },
      "source": [
        "plt.figure(figsize=(12, 6))\n",
        "plt.hist(df_movie['Rate'], bins=8)\n",
        "plt.show()"
      ],
      "execution_count": null,
      "outputs": [
        {
          "output_type": "display_data",
          "data": {
            "image/png": "[encoded data removed]",
            "text/plain": [
              "<Figure size 864x432 with 1 Axes>"
            ]
          },
          "metadata": {
            "tags": [],
            "needs_background": "light"
          }
        }
      ]
    },
    {
      "cell_type": "markdown",
      "metadata": {
        "id": "N2XuVPgnHT-X"
      },
      "source": [
        "Como podemos perceber, a nota que eu mais dou é 3, logo em seguida é 5. É, talvez eu seja um pouco exigente, ficando nos extremos de ou eu não gosto muito ou eu amo, preciso trabalhar melhor com meu meio termo."
      ]
    },
    {
      "cell_type": "markdown",
      "metadata": {
        "id": "NqlfG-AecZJ6"
      },
      "source": [
        "#### De qual país eu consumo mais conteúdo audiovisual?"
      ]
    },
    {
      "cell_type": "markdown",
      "metadata": {
        "id": "ysBgI-I2Hs2-"
      },
      "source": [
        "O meio que eu mais consumia filmes até meus 15 anos, era pela televisão, com o programa Sessão da tarde, logo não tinha o poder de escolha do filme.\n",
        "\n",
        "Além disso, eu só podia mexer no computador nos finais de semana e ainda tinha que dividir com minha irmã, então optava por fazer outras coisas do que ver filme. Depois disso, quando ganhei meu primeiro notebook com 15 anos, comecei a ter maior tempo no computador, vendo qualquer filme que eu me deparava.\n",
        "\n",
        "Quando amadureci, comecei a questionar o conteúdo que estava consumindo, se era diverso, produzido fora do eixo Estados Unidos da América(EUA)-Europa, quem eram os diretores, se estava consumindo diretoras também. Esperamos que esse conteúdo diverso chegue até nós de forma passiva, mas se não fizermos um esforço consciente, essa mudança não irá acontecer.\n",
        "\n",
        "Desde então venho explorando Nollywood, Bollywood, filmes asiáticos. Mas será que mudei drátiscamente ou ainda preciso mudar mais?\n",
        "\n",
        "Vamos então analisar os 10 países que mais consumo mídia visual."
      ]
    },
    {
      "cell_type": "code",
      "metadata": {
        "id": "FFUMF3ljpemn"
      },
      "source": [
        "df_countries_topten = df_movie['Country'].value_counts()[:10]"
      ],
      "execution_count": null,
      "outputs": []
    },
    {
      "cell_type": "code",
      "metadata": {
        "id": "jBapF5jKpeqE",
        "colab": {
          "base_uri": "https://localhost:8080/",
          "height": 575
        },
        "outputId": "67c9d09d-8ada-49ba-afa6-1dd43514b4e5"
      },
      "source": [
        "c = ['#6c0f92', '#920f76', '#920f35', '#6d4c7b', '#922a0f', '#926c0f', '#77920f', '#f4531d', '#FFC300', '#1df489' ]\n",
        "plt.figure(figsize=(10, 10))\n",
        "plt.pie(df_countries_topten.values, \n",
        "        labels=df_countries_topten.index, \n",
        "        autopct='%1.2f%%', \n",
        "        colors=c, \n",
        "        textprops={'fontsize':10})\n",
        "plt.show()"
      ],
      "execution_count": null,
      "outputs": [
        {
          "output_type": "display_data",
          "data": {
            "image/png": "[encoded data removed]",
            "text/plain": [
              "<Figure size 720x720 with 1 Axes>"
            ]
          },
          "metadata": {
            "tags": []
          }
        }
      ]
    },
    {
      "cell_type": "markdown",
      "metadata": {
        "id": "jBdyP4pabhq3"
      },
      "source": [
        "Como pude perceber com o gráfico, o país que eu mais consumo conteúdo é o EUA com 72.48%, seguido pelo Brasil com 6.84% e Japão com 6.57%. Ainda tenho um longo caminho a pecorrer."
      ]
    },
    {
      "cell_type": "markdown",
      "metadata": {
        "id": "OZOlqKTmckOf"
      },
      "source": [
        "#### De quais diretores eu mais assisti filmes?"
      ]
    },
    {
      "cell_type": "markdown",
      "metadata": {
        "id": "gdyeqTEmdYZV"
      },
      "source": [
        "Depois que tomei a decisão de diversificar meus filmes, passei a escolhê-los com os seguintes critérios:\n",
        "\n",
        "- País do filme;\n",
        "\n",
        "- Diretor;\n",
        "\n",
        "- Gênero do diretor;\n",
        "\n",
        "Vimos anteriormente que o país do qual eu mais consumo conteúdo é o EUA. Mas quem são os 10 diretores que eu mais vi sua obra? E quantos deles são homens?"
      ]
    },
    {
      "cell_type": "code",
      "metadata": {
        "id": "2zVFRLhhjPa2"
      },
      "source": [
        "df_director_topten = df_movie['Director'].value_counts()[:10]"
      ],
      "execution_count": null,
      "outputs": []
    },
    {
      "cell_type": "code",
      "metadata": {
        "colab": {
          "base_uri": "https://localhost:8080/",
          "height": 404
        },
        "id": "3nKs6uj-dUO5",
        "outputId": "f30156fb-cdb4-4f66-a3ff-9884db5d67e8"
      },
      "source": [
        "plt.figure(figsize=(12,6))\n",
        "sns.countplot(y='Director',\n",
        "              data = df_movie,\n",
        "              palette = 'magma',\n",
        "              order = df_director_topten.index).set_title('Most seen director')\n",
        "plt.show()"
      ],
      "execution_count": null,
      "outputs": [
        {
          "output_type": "display_data",
          "data": {
            "image/png": "[encoded data removed]",
            "text/plain": [
              "<Figure size 864x432 with 1 Axes>"
            ]
          },
          "metadata": {
            "tags": [],
            "needs_background": "light"
          }
        }
      ]
    },
    {
      "cell_type": "code",
      "metadata": {
        "id": "eZ8HJaAvpetG"
      },
      "source": [
        "df_director_gender = df_movie['Gender'].value_counts()"
      ],
      "execution_count": null,
      "outputs": []
    },
    {
      "cell_type": "code",
      "metadata": {
        "id": "a76u4tSspewN",
        "colab": {
          "base_uri": "https://localhost:8080/",
          "height": 404
        },
        "outputId": "597c8811-7d3a-42af-8bee-d0be20392397"
      },
      "source": [
        "plt.figure(figsize=(12,6))\n",
        "sns.countplot(x='Gender',\n",
        "              data = df_movie,\n",
        "              palette = 'magma',\n",
        "              order = df_director_gender.index).set_title(\"Director's Gender\")\n",
        "\n",
        "plt.show()"
      ],
      "execution_count": null,
      "outputs": [
        {
          "output_type": "display_data",
          "data": {
            "image/png": "[encoded data removed]",
            "text/plain": [
              "<Figure size 864x432 with 1 Axes>"
            ]
          },
          "metadata": {
            "tags": [],
            "needs_background": "light"
          }
        }
      ]
    },
    {
      "cell_type": "markdown",
      "metadata": {
        "id": "WVjCZd7jlSFD"
      },
      "source": [
        "Hayao Miyazaki só não é primeiro porque não sobrou filmes dos Studio Ghibli para ver, mas preciso me atentar mais para as diretoras, não é mesmo?"
      ]
    },
    {
      "cell_type": "markdown",
      "metadata": {
        "id": "adg4VVMwJxBm"
      },
      "source": [
        "####Ano vs Nota"
      ]
    },
    {
      "cell_type": "markdown",
      "metadata": {
        "id": "nD0Vuj9kKApW"
      },
      "source": [
        "Filmes antigos, ver efeitos que hoje em dia estão ultrapassados mas antigamente eram revolucionários. Ver o primeiro filme a colocar a música \"tun tun\" para indicar que tem um tubarão próximo a atacar. Quanto mais consciente sobre as escolhas do filmes eu ficava, mais filmes antigos eu via e gostava, mas será que o ano do filme influência realmente minha nota? Vamos ver."
      ]
    },
    {
      "cell_type": "code",
      "metadata": {
        "colab": {
          "base_uri": "https://localhost:8080/",
          "height": 112
        },
        "id": "FyJYd2-rGpfa",
        "outputId": "884f8294-e596-40ab-d6fa-e01a99bdcca8"
      },
      "source": [
        "corr = df_movie.loc[:, 'Year': 'Rate'].corr()\n",
        "corr"
      ],
      "execution_count": null,
      "outputs": [
        {
          "output_type": "execute_result",
          "data": {
            "text/html": [
              "<div>\n",
              "<style scoped>\n",
              "    .dataframe tbody tr th:only-of-type {\n",
              "        vertical-align: middle;\n",
              "    }\n",
              "\n",
              "    .dataframe tbody tr th {\n",
              "        vertical-align: top;\n",
              "    }\n",
              "\n",
              "    .dataframe thead th {\n",
              "        text-align: right;\n",
              "    }\n",
              "</style>\n",
              "<table border=\"1\" class=\"dataframe\">\n",
              "  <thead>\n",
              "    <tr style=\"text-align: right;\">\n",
              "      <th></th>\n",
              "      <th>Year</th>\n",
              "      <th>Rate</th>\n",
              "    </tr>\n",
              "  </thead>\n",
              "  <tbody>\n",
              "    <tr>\n",
              "      <th>Year</th>\n",
              "      <td>1.000000</td>\n",
              "      <td>-0.037312</td>\n",
              "    </tr>\n",
              "    <tr>\n",
              "      <th>Rate</th>\n",
              "      <td>-0.037312</td>\n",
              "      <td>1.000000</td>\n",
              "    </tr>\n",
              "  </tbody>\n",
              "</table>\n",
              "</div>"
            ],
            "text/plain": [
              "          Year      Rate\n",
              "Year  1.000000 -0.037312\n",
              "Rate -0.037312  1.000000"
            ]
          },
          "metadata": {
            "tags": []
          },
          "execution_count": 19
        }
      ]
    },
    {
      "cell_type": "code",
      "metadata": {
        "colab": {
          "base_uri": "https://localhost:8080/",
          "height": 374
        },
        "id": "wX-USTMkHXtz",
        "outputId": "90c9f2c8-3538-4bc9-d403-de3852c61d93"
      },
      "source": [
        "plt.figure(figsize=(12,6))\n",
        "cmap = sns.diverging_palette(230, 20, as_cmap = True)\n",
        "sns.heatmap(corr, cmap=cmap, center=0, vmin=-1, vmax=1, annot=True, square=True, linewidths=5, cbar_kws={'shrink': 0.5})\n",
        "plt.show()"
      ],
      "execution_count": null,
      "outputs": [
        {
          "output_type": "display_data",
          "data": {
            "image/png": "[encoded data removed]",
            "text/plain": [
              "<Figure size 864x432 with 2 Axes>"
            ]
          },
          "metadata": {
            "tags": [],
            "needs_background": "light"
          }
        }
      ]
    },
    {
      "cell_type": "markdown",
      "metadata": {
        "id": "TTzN1Kc-Mb_h"
      },
      "source": [
        "Pelo que podemos perceber, o ano do filme não tem correlação com a nota que eu dou. Confesso que fiquei surpresa."
      ]
    },
    {
      "cell_type": "markdown",
      "metadata": {
        "id": "R3It13eimSCO"
      },
      "source": [
        "## Uma breve história dos livros "
      ]
    },
    {
      "cell_type": "markdown",
      "metadata": {
        "id": "_1-7bKNimaIw"
      },
      "source": [
        "A história do livro é tão antiga quanto a história da escrita. Desde 6 mil anos atrás já surgiam os primeiros escritos, como o uso do papiro, pergaminho, placas e o formato que perdura até os dias atuais, o códex.\n",
        "\n",
        "\n",
        "\n",
        "<img src=\"https://3.bp.blogspot.com/-8y01Mnf6I4A/UI5jabcXrNI/AAAAAAAATw0/wfj5xln8GSY/s1600/livro+pergaminho+em+rolo+e+imprensa+de+gutembergh.gif\" width=\"600\">Exemplo de pergaminho (lado esquerdo) e códice (lado direito)\n",
        "\n",
        "Na Idade Média, os livros eram considerados objetos de intenso valor e, por isso, acessível somente para a nobreza e o clero, tornando-o um objeto cobiçado e motivo de exibição e furto.\n",
        "\n",
        "Além disso, muitos livros eram considerados impróprios pela Igreja Católica, sendo denominados *Index Librorum Prohibitorum* ou \"Índice dos Livros proibidos\".\n",
        "\n",
        "Em meados do século XV, o alemão *Joanes Gutenberg* (1398-1468), desenvolveu a prensa, e graças a ele hoje em dia eu posso ler meus livros em meus momentos de descontração.\n",
        "\n",
        "\n",
        "<img src=\"https://cdn.falauniversidades.com.br/wp-content/uploads/2020/09/24123139/Prensa-de-Guttenberg.jpg\" width=\"600\">Ilustração da prensa de Gutenberg\n",
        "\n",
        "\n",
        " "
      ]
    },
    {
      "cell_type": "markdown",
      "metadata": {
        "id": "TJhXBHUr7BiQ"
      },
      "source": [
        "Catalogo meus livros no site [Skoob](https://www.skoob.com.br/) e como criei o hábito de leitura apenas com 13 anos, após comprar meu primeiro livro \"Piores Inimigas/Melhores Amigas\", da série Garotas da Rua Beacon da *Annie Bryant*, tenho todos eles registrados.\n",
        "\n",
        "Até mais que filmes, livros são minha paixão e não consigo imaginar um dia sequer sem ler algum, mas nunca parei para analisá-los a fundo. Mas todo dia é dia de fazer algo diferente, não é mesmo?"
      ]
    },
    {
      "cell_type": "markdown",
      "metadata": {
        "id": "D-mdrDyV8wIw"
      },
      "source": [
        "###Importando o *dataset*"
      ]
    },
    {
      "cell_type": "code",
      "metadata": {
        "id": "S-LGPV4G9K_5"
      },
      "source": [
        "df_book = pd.read_csv(\"https://raw.githubusercontent.com/fernandarrios/desafio.cinemaeliteratura/main/dataset_desafioshepy/Filmes%20e%20Livros%20-%20Livros%20Lidos.csv\")"
      ],
      "execution_count": null,
      "outputs": []
    },
    {
      "cell_type": "markdown",
      "metadata": {
        "id": "xOCuJ66FCnJj"
      },
      "source": [
        "###Análise exploratória do *dataframe*"
      ]
    },
    {
      "cell_type": "code",
      "metadata": {
        "colab": {
          "base_uri": "https://localhost:8080/",
          "height": 206
        },
        "id": "_jOiyL3F9zZr",
        "outputId": "72e1b4b4-6932-46b3-8658-42cf1814b118"
      },
      "source": [
        "df_book.head()"
      ],
      "execution_count": null,
      "outputs": [
        {
          "output_type": "execute_result",
          "data": {
            "text/html": [
              "<div>\n",
              "<style scoped>\n",
              "    .dataframe tbody tr th:only-of-type {\n",
              "        vertical-align: middle;\n",
              "    }\n",
              "\n",
              "    .dataframe tbody tr th {\n",
              "        vertical-align: top;\n",
              "    }\n",
              "\n",
              "    .dataframe thead th {\n",
              "        text-align: right;\n",
              "    }\n",
              "</style>\n",
              "<table border=\"1\" class=\"dataframe\">\n",
              "  <thead>\n",
              "    <tr style=\"text-align: right;\">\n",
              "      <th></th>\n",
              "      <th>TÍTULO</th>\n",
              "      <th>TÍTULO ORIGINAL</th>\n",
              "      <th>AUTOR</th>\n",
              "      <th>TRADUTOR(A)</th>\n",
              "      <th>GÊNERO</th>\n",
              "      <th>PAÍS</th>\n",
              "      <th>LIDO EM</th>\n",
              "      <th>NOTA</th>\n",
              "      <th>FORMATO</th>\n",
              "      <th>PÁGINAS</th>\n",
              "      <th>EDITORA</th>\n",
              "      <th>TAG</th>\n",
              "    </tr>\n",
              "  </thead>\n",
              "  <tbody>\n",
              "    <tr>\n",
              "      <th>0</th>\n",
              "      <td>O nervo da noite</td>\n",
              "      <td>O nervo da noite</td>\n",
              "      <td>João Gilberto Noll</td>\n",
              "      <td>-</td>\n",
              "      <td>Homem</td>\n",
              "      <td>Brasil</td>\n",
              "      <td>-</td>\n",
              "      <td>2</td>\n",
              "      <td>Livro</td>\n",
              "      <td>48</td>\n",
              "      <td>Scipione</td>\n",
              "      <td>físico</td>\n",
              "    </tr>\n",
              "    <tr>\n",
              "      <th>1</th>\n",
              "      <td>Estrelas Tortas</td>\n",
              "      <td>Estrelas Tortas</td>\n",
              "      <td>Walcyr Carrasco</td>\n",
              "      <td>-</td>\n",
              "      <td>Homem</td>\n",
              "      <td>Brasil</td>\n",
              "      <td>-</td>\n",
              "      <td>5</td>\n",
              "      <td>Livro</td>\n",
              "      <td>104</td>\n",
              "      <td>Moderna</td>\n",
              "      <td>físico</td>\n",
              "    </tr>\n",
              "    <tr>\n",
              "      <th>2</th>\n",
              "      <td>A marca de uma lágrima</td>\n",
              "      <td>A marca de uma lágrima</td>\n",
              "      <td>Pedro Bandeira</td>\n",
              "      <td>-</td>\n",
              "      <td>Homem</td>\n",
              "      <td>Brasil</td>\n",
              "      <td>-</td>\n",
              "      <td>5</td>\n",
              "      <td>Livro</td>\n",
              "      <td>184</td>\n",
              "      <td>Moderna</td>\n",
              "      <td>físico</td>\n",
              "    </tr>\n",
              "    <tr>\n",
              "      <th>3</th>\n",
              "      <td>Amanhecer</td>\n",
              "      <td>Breakdawn</td>\n",
              "      <td>Stephenie Meyer</td>\n",
              "      <td>NaN</td>\n",
              "      <td>Mulher</td>\n",
              "      <td>EUA</td>\n",
              "      <td>-</td>\n",
              "      <td>2</td>\n",
              "      <td>Livro</td>\n",
              "      <td>567</td>\n",
              "      <td>Intrínseca</td>\n",
              "      <td>físico</td>\n",
              "    </tr>\n",
              "    <tr>\n",
              "      <th>4</th>\n",
              "      <td>Para sempre</td>\n",
              "      <td>Evermore</td>\n",
              "      <td>Alyson Noel</td>\n",
              "      <td>NaN</td>\n",
              "      <td>Mulher</td>\n",
              "      <td>EUA</td>\n",
              "      <td>-</td>\n",
              "      <td>3</td>\n",
              "      <td>Livro</td>\n",
              "      <td>255</td>\n",
              "      <td>Intrínseca</td>\n",
              "      <td>físico</td>\n",
              "    </tr>\n",
              "  </tbody>\n",
              "</table>\n",
              "</div>"
            ],
            "text/plain": [
              "                   TÍTULO         TÍTULO ORIGINAL  ...     EDITORA     TAG\n",
              "0        O nervo da noite        O nervo da noite  ...    Scipione  físico\n",
              "1         Estrelas Tortas         Estrelas Tortas  ...     Moderna  físico\n",
              "2  A marca de uma lágrima  A marca de uma lágrima  ...     Moderna  físico\n",
              "3               Amanhecer               Breakdawn  ...  Intrínseca  físico\n",
              "4             Para sempre                Evermore  ...  Intrínseca  físico\n",
              "\n",
              "[5 rows x 12 columns]"
            ]
          },
          "metadata": {
            "tags": []
          },
          "execution_count": 22
        }
      ]
    },
    {
      "cell_type": "markdown",
      "metadata": {
        "id": "841YaGC_9510"
      },
      "source": [
        "Como podemos ver, o *dataframe* apresenta os seguintes dados: Título, Título original, Autor, Tradutor(a), Gênero, País, Lido em, Nota(de 0 a 5), Formato(se é livro, história em quadrinhos ou mangá), Páginas, Editora e Tag(se foi lido em formato físico ou ebook).\n",
        "\n",
        "Qual será o tipo de cada dado?"
      ]
    },
    {
      "cell_type": "code",
      "metadata": {
        "colab": {
          "base_uri": "https://localhost:8080/"
        },
        "id": "8CaGuWbs9zju",
        "outputId": "de366462-49ae-4558-e665-175e0271a9db"
      },
      "source": [
        "df_book.info()"
      ],
      "execution_count": null,
      "outputs": [
        {
          "output_type": "stream",
          "text": [
            "<class 'pandas.core.frame.DataFrame'>\n",
            "RangeIndex: 463 entries, 0 to 462\n",
            "Data columns (total 12 columns):\n",
            " #   Column           Non-Null Count  Dtype \n",
            "---  ------           --------------  ----- \n",
            " 0   TÍTULO           463 non-null    object\n",
            " 1   TÍTULO ORIGINAL  463 non-null    object\n",
            " 2   AUTOR            463 non-null    object\n",
            " 3   TRADUTOR(A)      83 non-null     object\n",
            " 4   GÊNERO           463 non-null    object\n",
            " 5   PAÍS             463 non-null    object\n",
            " 6   LIDO EM          463 non-null    object\n",
            " 7   NOTA             463 non-null    object\n",
            " 8   FORMATO          463 non-null    object\n",
            " 9   PÁGINAS          463 non-null    int64 \n",
            " 10  EDITORA          463 non-null    object\n",
            " 11  TAG              463 non-null    object\n",
            "dtypes: int64(1), object(11)\n",
            "memory usage: 43.5+ KB\n"
          ],
          "name": "stdout"
        }
      ]
    },
    {
      "cell_type": "markdown",
      "metadata": {
        "id": "Bj57o-hSC9XZ"
      },
      "source": [
        "###Pré-processamento\n",
        "\n",
        "Agora vamos limpar dos dados, eliminando os que não precisamos e qualquer inconsistência que aparecer."
      ]
    },
    {
      "cell_type": "code",
      "metadata": {
        "id": "z4-FSOjPDFLR"
      },
      "source": [
        "#Dropando as colunas que não irei utilizar\n",
        "df_book = df_book.drop(['TÍTULO ORIGINAL', 'TRADUTOR(A)', 'LIDO EM'], axis=1)"
      ],
      "execution_count": null,
      "outputs": []
    },
    {
      "cell_type": "markdown",
      "metadata": {
        "id": "VPKQk7uHFrxF"
      },
      "source": [
        "Eliminei a coluna 'Título Original' pois apresenta títulos com o alfabeto não latino. E o 'Tradutor(a)' e 'Lido em' por razão da presença de nulos e que não irei utilizar os dados neles contidos."
      ]
    },
    {
      "cell_type": "code",
      "metadata": {
        "id": "-n_FC-kGGMVf"
      },
      "source": [
        "#Padronizando a pontuação das notas para que sejam reconhecidas como dado numérico do tipo float\n",
        "df_book['NOTA'] = df_book['NOTA'].apply(lambda x: str(x).replace(',','.'))\n",
        "df_book['NOTA'] = df_book['NOTA'].astype('float64')\n",
        "\n"
      ],
      "execution_count": null,
      "outputs": []
    },
    {
      "cell_type": "code",
      "metadata": {
        "id": "mK0_tydnIuUn"
      },
      "source": [
        "#Renomeando alguns dados que irão aparecer e é interessante alterá-los para inglês\n",
        "df_book['GÊNERO'].replace('Homem','Man', inplace=True)\n",
        "df_book['GÊNERO'].replace('Mulher','Woman', inplace=True)\n",
        "df_book['GÊNERO'].replace('Ambos', 'Both', inplace=True)\n",
        "\n",
        "df_book['FORMATO'].replace('Livro', 'Book', inplace=True)\n",
        "df_book['FORMATO'].replace('HQ', 'Comic Book', inplace=True)\n",
        "df_book['FORMATO'].replace('Mangá', 'Manga', inplace=True)\n",
        "\n",
        "df_book['TAG'].replace('físico', 'Book', inplace=True)"
      ],
      "execution_count": null,
      "outputs": []
    },
    {
      "cell_type": "code",
      "metadata": {
        "id": "KQNfSo41GMY3"
      },
      "source": [
        "df_book.rename(columns={\n",
        "    'TÍTULO':'Title',\n",
        "    'AUTOR':'Author',\n",
        "    'GÊNERO':'Gender',\n",
        "    'PAÍS':'Country',\n",
        "    'NOTA':'Rate',\n",
        "    'FORMATO':'Type',\n",
        "    'PÁGINAS':'Page',\n",
        "    'EDITORA':'Publisher',\n",
        "    'TAG':'Tag'\n",
        "}, inplace=True)"
      ],
      "execution_count": null,
      "outputs": []
    },
    {
      "cell_type": "markdown",
      "metadata": {
        "id": "llR1KvDWSJ7j"
      },
      "source": [
        "Mudando os nomes das colunas para que fiquem na língua mais utiizada e eliminando os caracteres especiais como o acento agudo."
      ]
    },
    {
      "cell_type": "markdown",
      "metadata": {
        "id": "PZOQfsbpSQmo"
      },
      "source": [
        "###Análise de dados\n"
      ]
    },
    {
      "cell_type": "markdown",
      "metadata": {
        "id": "u3KlhmVtShSQ"
      },
      "source": [
        "####Sou Exigente?"
      ]
    },
    {
      "cell_type": "markdown",
      "metadata": {
        "id": "nhwtOchCSxOd"
      },
      "source": [
        "Me considero exigente em relação aos livro, mas será que sou mesmo? Vamos descobir."
      ]
    },
    {
      "cell_type": "code",
      "metadata": {
        "colab": {
          "base_uri": "https://localhost:8080/",
          "height": 374
        },
        "id": "7GYeXAPaGMcL",
        "outputId": "a09ba93d-def1-4ecf-b588-5fb3817ba954"
      },
      "source": [
        "plt.figure(figsize=(12, 6))\n",
        "plt.hist(df_book['Rate'], bins=8)\n",
        "plt.show()"
      ],
      "execution_count": null,
      "outputs": [
        {
          "output_type": "display_data",
          "data": {
            "image/png": "[encoded data removed]",
            "text/plain": [
              "<Figure size 864x432 with 1 Axes>"
            ]
          },
          "metadata": {
            "tags": [],
            "needs_background": "light"
          }
        }
      ]
    },
    {
      "cell_type": "markdown",
      "metadata": {
        "id": "A6K2CO3GTYhh"
      },
      "source": [
        "Bom, pelo que vimos as notas que eu mais dou é 5, depois 4.5. Sobre isso eu levanto duas hipóteses:\n",
        "\n",
        "1.   Tenho um gosto muito bem definido de livros que eu sei qual é;\n",
        "2.   Priorizo esse gosto, e saio pouco da minha zona de conforto;\n",
        "\n",
        "Acabando a análise, vou procurar mais livros fora da minha zona de conforto."
      ]
    },
    {
      "cell_type": "markdown",
      "metadata": {
        "id": "jlE_jp82aa--"
      },
      "source": [
        "####De qual país eu mais consumo a literatura?"
      ]
    },
    {
      "cell_type": "markdown",
      "metadata": {
        "id": "kJJ9cqxLagn1"
      },
      "source": [
        "De acordo com que fui me adentrando nas discussões sobre pautas sociais, comecei a prestar atenção à quem eu estava lendo, e percebi que o homem-branco estadunidense estava prevalecendo e para a escolha das minhas leituras serem de autores diversificados de forma natural, antes o esforço tem que ser consciente. Então comecei a priorizar a leitura das “minorias” e de diferentes países.\n",
        "\n",
        "Será que fiz um progresso nesse quesito?"
      ]
    },
    {
      "cell_type": "code",
      "metadata": {
        "id": "tWL5zrYZz2Pv"
      },
      "source": [
        "df_book_countrytopten = df_book['Country'].value_counts()[:10]"
      ],
      "execution_count": null,
      "outputs": []
    },
    {
      "cell_type": "code",
      "metadata": {
        "id": "j0WTE48bGMfa",
        "colab": {
          "base_uri": "https://localhost:8080/",
          "height": 575
        },
        "outputId": "c2c85591-dfc9-4f90-b7a5-4071eefe07f0"
      },
      "source": [
        "c = ['#6c0f92', '#920f76', '#920f35', '#6d4c7b', '#922a0f', '#926c0f', '#77920f', '#f4531d', '#FFC300', '#1df489' ]\n",
        "plt.figure(figsize=(10, 10))\n",
        "plt.pie(df_book_countrytopten.values, \n",
        "        labels=df_book_countrytopten.index, \n",
        "        autopct='%1.2f%%', \n",
        "        colors=c, \n",
        "        textprops={'fontsize':10})\n",
        "plt.show()"
      ],
      "execution_count": null,
      "outputs": [
        {
          "output_type": "display_data",
          "data": {
            "image/png": "[encoded data removed]",
            "text/plain": [
              "<Figure size 720x720 with 1 Axes>"
            ]
          },
          "metadata": {
            "tags": []
          }
        }
      ]
    },
    {
      "cell_type": "markdown",
      "metadata": {
        "id": "xNFDrzKx_C_4"
      },
      "source": [
        "Achei o resultado bastante interessante. Pelo visto o primeiro país que consumo conteúdo é o Japão com 39.19%, depois os EUA com 28.83% e em seguida o Brasil 19.37%.\n",
        "\n",
        "Isso me deixou intrigada, qual será o formato mais lido?"
      ]
    },
    {
      "cell_type": "code",
      "metadata": {
        "id": "pbpKGG1EGMif",
        "colab": {
          "base_uri": "https://localhost:8080/",
          "height": 567
        },
        "outputId": "e6a44552-75e5-4d65-afe7-e9c6164fb8e3"
      },
      "source": [
        "plt.figure(figsize=(10, 9))\n",
        "sns.countplot(x='Type',\n",
        "              palette=\"magma\",\n",
        "              hue='Gender', \n",
        "              data=df_book, \n",
        "              order=df_book['Type'].value_counts().index).set_title('Book type per gender')\n",
        "plt.show()"
      ],
      "execution_count": null,
      "outputs": [
        {
          "output_type": "display_data",
          "data": {
            "image/png": "[encoded data removed]",
            "text/plain": [
              "<Figure size 720x648 with 1 Axes>"
            ]
          },
          "metadata": {
            "tags": [],
            "needs_background": "light"
          }
        }
      ]
    },
    {
      "cell_type": "markdown",
      "metadata": {
        "id": "SKgfKTMOTaoI"
      },
      "source": [
        "Como podemos perceber, o Japão ficou com 39.19% pois consumo muito mangá, que é a grosso modo, história em quadrinhos japonês, seguido por livro e depois por história em quadrinhos. \n",
        "\n",
        "Outra informação interessante, é que como no caso dos filmes, consumo muito mais autores do que autoras. Shame on me."
      ]
    },
    {
      "cell_type": "markdown",
      "metadata": {
        "id": "4J_D6_yxWhsU"
      },
      "source": [
        "####Físico ou ebook?"
      ]
    },
    {
      "cell_type": "markdown",
      "metadata": {
        "id": "CrRpAu0kWl5R"
      },
      "source": [
        "Confesso! Sou muito apegada a sensação do virar das folhas, sentir o progresso do livro ao abrir, quando se tem muito mais folhas na sua esquerda do que na direita, até a dor no braço dos calhamaços (haha), mas os *ebooks* vieram para ficar e realmente é muito cômodo ter 50 livros com o tamanho de um tablet na sua mochila.\n",
        "\n",
        "Depois de comprar um *e-reader* há dois anos, quantos *ebooks* será que eu já li?\n",
        "\n"
      ]
    },
    {
      "cell_type": "code",
      "metadata": {
        "id": "R2GdlIybMJBh"
      },
      "source": [
        "df_book_ebook = df_book['Tag'].value_counts()"
      ],
      "execution_count": null,
      "outputs": []
    },
    {
      "cell_type": "code",
      "metadata": {
        "colab": {
          "base_uri": "https://localhost:8080/",
          "height": 404
        },
        "id": "QU18JNmIMItT",
        "outputId": "2847a9ae-b04c-47b5-e647-6cbb04ef7efb"
      },
      "source": [
        "plt.figure(figsize=(12,6))\n",
        "sns.countplot(y='Tag',\n",
        "              data = df_book,\n",
        "              palette = 'magma_r',\n",
        "              order = df_book_ebook.index).set_title('Ebook vs Book')\n",
        "plt.show()"
      ],
      "execution_count": null,
      "outputs": [
        {
          "output_type": "display_data",
          "data": {
            "image/png": "[encoded data removed]",
            "text/plain": [
              "<Figure size 864x432 with 1 Axes>"
            ]
          },
          "metadata": {
            "tags": [],
            "needs_background": "light"
          }
        }
      ]
    },
    {
      "cell_type": "markdown",
      "metadata": {
        "id": "SNd1dw6bY0U6"
      },
      "source": [
        "Para uma saudosista dos livros físcos, considero que li até bastante ebook. E o que significa esse online? Eeerr...Pdfs"
      ]
    },
    {
      "cell_type": "markdown",
      "metadata": {
        "id": "FAluL53JVycL"
      },
      "source": [
        "####Quantidade de páginas vs Nota"
      ]
    },
    {
      "cell_type": "markdown",
      "metadata": {
        "id": "PAq-VPp8WIKK"
      },
      "source": [
        "Será que a quantidade de páginas de um livro influência no quanto que eu vou gostar dele? porque se sim, já irei acrescentar esse critério para minha próxima leitura."
      ]
    },
    {
      "cell_type": "code",
      "metadata": {
        "colab": {
          "base_uri": "https://localhost:8080/",
          "height": 112
        },
        "id": "3xz_ftXmVOR4",
        "outputId": "0e326069-134c-4601-b72b-d2a3e3cfe2d7"
      },
      "source": [
        "corr = df_book.loc[:, 'Rate': 'Page'].corr()\n",
        "corr"
      ],
      "execution_count": null,
      "outputs": [
        {
          "output_type": "execute_result",
          "data": {
            "text/html": [
              "<div>\n",
              "<style scoped>\n",
              "    .dataframe tbody tr th:only-of-type {\n",
              "        vertical-align: middle;\n",
              "    }\n",
              "\n",
              "    .dataframe tbody tr th {\n",
              "        vertical-align: top;\n",
              "    }\n",
              "\n",
              "    .dataframe thead th {\n",
              "        text-align: right;\n",
              "    }\n",
              "</style>\n",
              "<table border=\"1\" class=\"dataframe\">\n",
              "  <thead>\n",
              "    <tr style=\"text-align: right;\">\n",
              "      <th></th>\n",
              "      <th>Rate</th>\n",
              "      <th>Page</th>\n",
              "    </tr>\n",
              "  </thead>\n",
              "  <tbody>\n",
              "    <tr>\n",
              "      <th>Rate</th>\n",
              "      <td>1.000000</td>\n",
              "      <td>0.106972</td>\n",
              "    </tr>\n",
              "    <tr>\n",
              "      <th>Page</th>\n",
              "      <td>0.106972</td>\n",
              "      <td>1.000000</td>\n",
              "    </tr>\n",
              "  </tbody>\n",
              "</table>\n",
              "</div>"
            ],
            "text/plain": [
              "          Rate      Page\n",
              "Rate  1.000000  0.106972\n",
              "Page  0.106972  1.000000"
            ]
          },
          "metadata": {
            "tags": []
          },
          "execution_count": 39
        }
      ]
    },
    {
      "cell_type": "code",
      "metadata": {
        "colab": {
          "base_uri": "https://localhost:8080/",
          "height": 377
        },
        "id": "UqkwbCzXVrqP",
        "outputId": "be04162d-59c7-440b-fc9e-dae8dcd7a2e9"
      },
      "source": [
        "plt.figure(figsize=(12,6))\n",
        "cmap = sns.diverging_palette(230, 20, as_cmap = True)\n",
        "sns.heatmap(corr, cmap=cmap, center=0, vmin=-1, vmax=1, annot=True, square=True, linewidths=5, cbar_kws={'shrink': 0.5})\n",
        "plt.show()"
      ],
      "execution_count": null,
      "outputs": [
        {
          "output_type": "display_data",
          "data": {
            "image/png": "[encoded data removed]",
            "text/plain": [
              "<Figure size 864x432 with 2 Axes>"
            ]
          },
          "metadata": {
            "tags": []
          }
        }
      ]
    },
    {
      "cell_type": "markdown",
      "metadata": {
        "id": "WtId95k2Y2zu"
      },
      "source": [
        "Pelo que podemos perceber, eles tem uma correlação fraca. Então posso continuar com a coleção vagalume para minhs próximas leituras."
      ]
    },
    {
      "cell_type": "markdown",
      "metadata": {
        "id": "iWirKkkvZnuR"
      },
      "source": [
        "##Juntando os dataframes para uma análise final"
      ]
    },
    {
      "cell_type": "markdown",
      "metadata": {
        "id": "i1voX8quZ4kw"
      },
      "source": [
        "Depois de toda análise minuciosa de cada *dataframe*, gostaria de fazer um apanhado final dos países que eu mais consumo mídia. Então vamos lá."
      ]
    },
    {
      "cell_type": "code",
      "metadata": {
        "id": "iG18bLWLYzvG"
      },
      "source": [
        "df_total = pd.merge(df_movie, df_book, how='left', left_on=['Country'], right_on=['Country'])"
      ],
      "execution_count": null,
      "outputs": []
    },
    {
      "cell_type": "code",
      "metadata": {
        "id": "bFHUx8PDGMqW",
        "colab": {
          "base_uri": "https://localhost:8080/",
          "height": 293
        },
        "outputId": "6e100bf4-a190-4cbf-ba19-f6441fecf64d"
      },
      "source": [
        "df_total.head()"
      ],
      "execution_count": null,
      "outputs": [
        {
          "output_type": "execute_result",
          "data": {
            "text/html": [
              "<div>\n",
              "<style scoped>\n",
              "    .dataframe tbody tr th:only-of-type {\n",
              "        vertical-align: middle;\n",
              "    }\n",
              "\n",
              "    .dataframe tbody tr th {\n",
              "        vertical-align: top;\n",
              "    }\n",
              "\n",
              "    .dataframe thead th {\n",
              "        text-align: right;\n",
              "    }\n",
              "</style>\n",
              "<table border=\"1\" class=\"dataframe\">\n",
              "  <thead>\n",
              "    <tr style=\"text-align: right;\">\n",
              "      <th></th>\n",
              "      <th>Year</th>\n",
              "      <th>Title_x</th>\n",
              "      <th>Director</th>\n",
              "      <th>Gender_x</th>\n",
              "      <th>Country</th>\n",
              "      <th>Rate_x</th>\n",
              "      <th>Title_y</th>\n",
              "      <th>Author</th>\n",
              "      <th>Gender_y</th>\n",
              "      <th>Rate_y</th>\n",
              "      <th>Type</th>\n",
              "      <th>Page</th>\n",
              "      <th>Publisher</th>\n",
              "      <th>Tag</th>\n",
              "    </tr>\n",
              "  </thead>\n",
              "  <tbody>\n",
              "    <tr>\n",
              "      <th>0</th>\n",
              "      <td>2013.0</td>\n",
              "      <td>Como não perder essa mulher</td>\n",
              "      <td>Joseph Gordon-Levitt</td>\n",
              "      <td>Man</td>\n",
              "      <td>EUA</td>\n",
              "      <td>2.5</td>\n",
              "      <td>Amanhecer</td>\n",
              "      <td>Stephenie Meyer</td>\n",
              "      <td>Woman</td>\n",
              "      <td>2.0</td>\n",
              "      <td>Book</td>\n",
              "      <td>567.0</td>\n",
              "      <td>Intrínseca</td>\n",
              "      <td>Book</td>\n",
              "    </tr>\n",
              "    <tr>\n",
              "      <th>1</th>\n",
              "      <td>2013.0</td>\n",
              "      <td>Como não perder essa mulher</td>\n",
              "      <td>Joseph Gordon-Levitt</td>\n",
              "      <td>Man</td>\n",
              "      <td>EUA</td>\n",
              "      <td>2.5</td>\n",
              "      <td>Para sempre</td>\n",
              "      <td>Alyson Noel</td>\n",
              "      <td>Woman</td>\n",
              "      <td>3.0</td>\n",
              "      <td>Book</td>\n",
              "      <td>255.0</td>\n",
              "      <td>Intrínseca</td>\n",
              "      <td>Book</td>\n",
              "    </tr>\n",
              "    <tr>\n",
              "      <th>2</th>\n",
              "      <td>2013.0</td>\n",
              "      <td>Como não perder essa mulher</td>\n",
              "      <td>Joseph Gordon-Levitt</td>\n",
              "      <td>Man</td>\n",
              "      <td>EUA</td>\n",
              "      <td>2.5</td>\n",
              "      <td>Os cientistas e seus experimentos de arromba</td>\n",
              "      <td>Mike Goldsmith</td>\n",
              "      <td>Man</td>\n",
              "      <td>2.0</td>\n",
              "      <td>Book</td>\n",
              "      <td>192.0</td>\n",
              "      <td>Cia das Letras</td>\n",
              "      <td>Book</td>\n",
              "    </tr>\n",
              "    <tr>\n",
              "      <th>3</th>\n",
              "      <td>2013.0</td>\n",
              "      <td>Como não perder essa mulher</td>\n",
              "      <td>Joseph Gordon-Levitt</td>\n",
              "      <td>Man</td>\n",
              "      <td>EUA</td>\n",
              "      <td>2.5</td>\n",
              "      <td>Leonardo da Vinci e seu super cérebro</td>\n",
              "      <td>Michael Cox</td>\n",
              "      <td>Man</td>\n",
              "      <td>2.0</td>\n",
              "      <td>Book</td>\n",
              "      <td>176.0</td>\n",
              "      <td>Cia das Letras</td>\n",
              "      <td>Book</td>\n",
              "    </tr>\n",
              "    <tr>\n",
              "      <th>4</th>\n",
              "      <td>2013.0</td>\n",
              "      <td>Como não perder essa mulher</td>\n",
              "      <td>Joseph Gordon-Levitt</td>\n",
              "      <td>Man</td>\n",
              "      <td>EUA</td>\n",
              "      <td>2.5</td>\n",
              "      <td>Pollyanna</td>\n",
              "      <td>Eleonor H. Porter</td>\n",
              "      <td>Woman</td>\n",
              "      <td>4.0</td>\n",
              "      <td>Book</td>\n",
              "      <td>80.0</td>\n",
              "      <td>Escala Educacional</td>\n",
              "      <td>Book</td>\n",
              "    </tr>\n",
              "  </tbody>\n",
              "</table>\n",
              "</div>"
            ],
            "text/plain": [
              "     Year                      Title_x  ...           Publisher   Tag\n",
              "0  2013.0  Como não perder essa mulher  ...          Intrínseca  Book\n",
              "1  2013.0  Como não perder essa mulher  ...          Intrínseca  Book\n",
              "2  2013.0  Como não perder essa mulher  ...      Cia das Letras  Book\n",
              "3  2013.0  Como não perder essa mulher  ...      Cia das Letras  Book\n",
              "4  2013.0  Como não perder essa mulher  ...  Escala Educacional  Book\n",
              "\n",
              "[5 rows x 14 columns]"
            ]
          },
          "metadata": {
            "tags": []
          },
          "execution_count": 35
        }
      ]
    },
    {
      "cell_type": "code",
      "metadata": {
        "id": "VUZz3IH4bBQr"
      },
      "source": [
        "df_total_contries = df_total['Country'].value_counts()"
      ],
      "execution_count": null,
      "outputs": []
    },
    {
      "cell_type": "code",
      "metadata": {
        "colab": {
          "base_uri": "https://localhost:8080/",
          "height": 952
        },
        "id": "3V4jMapVbBLa",
        "outputId": "67299844-43a6-47ec-a38b-ad5f1faaf22f"
      },
      "source": [
        "plt.figure(figsize=(40,30))\n",
        "sns.countplot(y='Country',\n",
        "              data = df_total,\n",
        "              palette = 'magma',\n",
        "              order = df_total_contries.index).set_title('Total of media consumed for each contry')\n",
        "sns.set(rc={\"font.size\":40, \"axes.titlesize\":30,\"axes.labelsize\":30},style=\"white\")\n",
        "plt.show()\n",
        "plt.show()"
      ],
      "execution_count": null,
      "outputs": [
        {
          "output_type": "display_data",
          "data": {
            "image/png": "[encoded data removed]",
            "text/plain": [
              "<Figure size 2880x2160 with 1 Axes>"
            ]
          },
          "metadata": {
            "tags": []
          }
        }
      ]
    },
    {
      "cell_type": "markdown",
      "metadata": {
        "id": "6Tvth5NscDD9"
      },
      "source": [
        "Pelo jeito ainda tenho um longo caminho a pecorrer.."
      ]
    },
    {
      "cell_type": "markdown",
      "metadata": {
        "id": "nWQrXoZd_uVl"
      },
      "source": [
        "##Referência:\n",
        "\n",
        "**História da literatura**. Wikipédia, a enciclopédia livre. Disponível em: https://pt.wikipedia.org/wiki/Hist%C3%B3ria_da_literatura. Acesso em: 08 jun. 2021\n",
        "\n",
        "\n",
        "DESCONHECIDO. **O início do cinema**. Noar Filmes. Disponível em: https://noarfilmes.com.br/lancamentos/o-inicio-do-cinema/. Acesso em: 06 jun. 2021\n",
        "\n",
        "DIANA, Daniela. **História do livro**. Toda Matéria. Disponível em: https://www.todamateria.com.br/historia-do-livro/.  Acesso em: 07 jun. 2021 \n",
        "\n",
        "\n",
        "**História do cinema**. Wikipédia, a enciclopédia livre. Disponível em: https://pt.wikipedia.org/wiki/Hist%C3%B3ria_do_cinema. Acesso em: 06 jun. 2021\n",
        "\n",
        "\n",
        "###Documentação:\n",
        "\n",
        "[Pandas](https://pandas.pydata.org/)\n",
        "\n",
        "[Numpy](https://numpy.org/)\n",
        "\n",
        "[Seaborn](https://seaborn.pydata.org/)\n",
        "\n",
        "[Matplotlib](https://matplotlib.org/2.0.2/index.html)"
      ]
    },
    {
      "cell_type": "markdown",
      "metadata": {
        "id": "Zfqz3EP5H7Zi"
      },
      "source": [
        "##Para saber mais:\n",
        "\n",
        "- PIONEIROS do Cinema | A história do cinema. Ep.01. [S. l.: s. n.] Publicado pelo canal Canto dos Clássicos. Disponível em: https://www.youtube.com/watch?v=7QbyYpLpnaQ. Acesso em: 06 jun. 2021\n",
        "\n",
        "- KEMP, Philip. **Tudo sobre cinema.** Rio de Janeiro: Sextante, 2011. \n",
        "\n",
        "- DARNTON, Robert. “O que é a história do livro?”: revisitado. **ArtCultura**, Uberlândia, v. 10, n. 16, p. 155-169, jan.-jun. 2008.\n",
        "\n",
        "- BENJAMIN, Walter. O narrador: considerações sobre a obra de Nikolai Leskov. In: ______. **Magia e técnica, arte e política**: ensaios sobre literatura e história da cultura. 3. ed. São Paulo: Brasiliense, 1987, p. 197-221. (Obras escolhidas; 1).\n",
        "\n",
        "- OS narradores de Javé. Direção de Eliane Caffé. Rio de Janeiro: Riofilme, 2004. (100 min)  \n",
        "\n",
        "- ROBERT Darton - 24/9/2012. [S. l.: s. n.] Publlicado pelo canal Roda Viva. Disponível em: https://www.youtube.com/watch?v=Eo3wTUimklU. Acesso em: 08 jun. 2021\n"
      ]
    }
  ]
}